{
 "cells": [
  {
   "cell_type": "code",
   "id": "initial_id",
   "metadata": {
    "collapsed": true,
    "ExecuteTime": {
     "end_time": "2025-05-06T21:19:54.664317Z",
     "start_time": "2025-05-06T21:19:51.511333Z"
    }
   },
   "source": [
    "import csv\n",
    "import json\n",
    "import geopandas as gp\n",
    "import pandas as pd\n",
    "from datetime import datetime\n",
    "from collections import Counter"
   ],
   "outputs": [],
   "execution_count": 1
  },
  {
   "metadata": {
    "ExecuteTime": {
     "end_time": "2025-05-06T21:19:56.504814Z",
     "start_time": "2025-05-06T21:19:56.008793Z"
    }
   },
   "cell_type": "code",
   "source": [
    "#reads the TriCOG Land Bank service area footprint\n",
    "\n",
    "tricog = gp.read_file(\"../data/tricog_dissolved.zip\")"
   ],
   "id": "8b951513be13957a",
   "outputs": [],
   "execution_count": 2
  },
  {
   "metadata": {
    "ExecuteTime": {
     "end_time": "2025-05-06T21:20:35.860793Z",
     "start_time": "2025-05-06T21:19:58.384052Z"
    }
   },
   "cell_type": "code",
   "source": [
    "#read the allegheny county parcel file\n",
    "\n",
    "allegheny_county_parcels = gp.read_file(\"../data/alleghenycounty_parcels202504.geojson\")"
   ],
   "id": "a83365a68dace8c1",
   "outputs": [],
   "execution_count": 3
  },
  {
   "metadata": {
    "ExecuteTime": {
     "end_time": "2025-05-06T21:21:22.091532Z",
     "start_time": "2025-05-06T21:21:06.478422Z"
    }
   },
   "cell_type": "code",
   "source": [
    "#perform a spatial join between the TriCOG footprint and the county's parcels to find parcels within TriCOG\n",
    "\n",
    "parcels_within_tricog = gp.sjoin(allegheny_county_parcels, tricog.to_crs(\"EPSG:4326\"))"
   ],
   "id": "3c9f020867eec71b",
   "outputs": [],
   "execution_count": 4
  },
  {
   "metadata": {
    "ExecuteTime": {
     "end_time": "2025-05-06T21:22:12.093445Z",
     "start_time": "2025-05-06T21:21:27.949400Z"
    }
   },
   "cell_type": "code",
   "source": "clipped_parcels = gp.clip(allegheny_county_parcels, tricog.to_crs(\"EPSG:4326\"))",
   "id": "122832db26e3d392",
   "outputs": [],
   "execution_count": 5
  },
  {
   "metadata": {
    "ExecuteTime": {
     "end_time": "2025-05-06T21:22:39.401071Z",
     "start_time": "2025-05-06T21:22:31.488052Z"
    }
   },
   "cell_type": "code",
   "source": [
    "#read the assessment file and rename the parcel ID column \"PIN\"\n",
    "with open(\"../data/assessments_apr_2025.csv\", newline=\"\") as f:\n",
    "    allegheny_county_assessments_list = [row for row in csv.reader(f, delimiter=',')]\n",
    "allegheny_county_assessments_list[0][0] = 'PIN'\n"
   ],
   "id": "5a895bf962297333",
   "outputs": [],
   "execution_count": 6
  },
  {
   "metadata": {
    "ExecuteTime": {
     "end_time": "2025-05-06T21:22:46.797863Z",
     "start_time": "2025-05-06T21:22:44.584636Z"
    }
   },
   "cell_type": "code",
   "source": [
    "#convert the list of lists to a dataframe\n",
    "allegheny_county_assessments = pd.DataFrame(allegheny_county_assessments_list[1:], columns = allegheny_county_assessments_list[0])"
   ],
   "id": "ea1f1c4d8ddd74fe",
   "outputs": [],
   "execution_count": 7
  },
  {
   "metadata": {
    "ExecuteTime": {
     "end_time": "2025-05-06T21:22:58.160819Z",
     "start_time": "2025-05-06T21:22:56.085021Z"
    }
   },
   "cell_type": "code",
   "source": "assessments_on_clipped = clipped_parcels.merge(allegheny_county_assessments, how=\"inner\", on=\"PIN\")",
   "id": "b9d02b06acf4b196",
   "outputs": [],
   "execution_count": 8
  },
  {
   "metadata": {
    "ExecuteTime": {
     "end_time": "2025-05-06T21:24:32.328704Z",
     "start_time": "2025-05-06T21:24:31.713475Z"
    }
   },
   "cell_type": "code",
   "source": [
    "#convert sale data dates to datetime and only keep houses that were last sold before 2022\n",
    "#since we need houses with at least three years' tax delinquency, houses sold after 2022 could not meet that criteria\n",
    "\n",
    "assessments_on_clipped['SALEDATE'] = pd.to_datetime(assessments_on_clipped['SALEDATE'], format='%m-%d-%Y')\n",
    "assessments_on_clipped['PREVSALEDATE'] = pd.to_datetime(assessments_on_clipped['PREVSALEDATE'], format='%m-%d-%Y')\n",
    "cutoff = datetime(2022,1,1)\n",
    "older_sales = assessments_on_clipped[assessments_on_clipped['SALEDATE']<cutoff]"
   ],
   "id": "96ac649ca33b4483",
   "outputs": [],
   "execution_count": 9
  },
  {
   "metadata": {
    "ExecuteTime": {
     "end_time": "2025-05-06T21:24:38.565952Z",
     "start_time": "2025-05-06T21:24:37.939767Z"
    }
   },
   "cell_type": "code",
   "source": [
    "#creates a dict to use as a lookup to find the sale date of a parcel given its parcel id\n",
    "\n",
    "pin_to_sale_date = {row.PIN: row.SALEDATE for row in older_sales.itertuples()}"
   ],
   "id": "e2e2c8b224727175",
   "outputs": [],
   "execution_count": 10
  },
  {
   "metadata": {
    "ExecuteTime": {
     "end_time": "2025-05-06T21:24:50.701235Z",
     "start_time": "2025-05-06T21:24:40.936487Z"
    }
   },
   "cell_type": "code",
   "source": [
    "#read the liens file\n",
    "with open(\"../data/liens.csv\", newline='') as f:\n",
    "    liens_list = [row for row in csv.reader(f, delimiter=',')]\n",
    "\n",
    "#convert the liens file to a dataframe\n",
    "liens = pd.DataFrame(liens_list[1:], columns = liens_list[0])"
   ],
   "id": "9ee6581878f3fe93",
   "outputs": [],
   "execution_count": 11
  },
  {
   "metadata": {
    "ExecuteTime": {
     "end_time": "2025-05-06T21:24:53.415504Z",
     "start_time": "2025-05-06T21:24:52.904129Z"
    }
   },
   "cell_type": "code",
   "source": [
    "#look for liens associated with any parcel that was sold before 2022 and\n",
    "#is in the TriCOG footprint\n",
    "\n",
    "liens_on_older_sales = liens[liens.pin.isin(older_sales.PIN)]"
   ],
   "id": "11ed87c61cc7c567",
   "outputs": [],
   "execution_count": 12
  },
  {
   "metadata": {
    "ExecuteTime": {
     "end_time": "2025-05-06T21:24:57.323691Z",
     "start_time": "2025-05-06T21:24:55.958571Z"
    }
   },
   "cell_type": "code",
   "source": [
    "#creates a pandas DataFrame of liens from before 2022 that are associated with the current owner (and not liens that are attached to previous owners)\n",
    "\n",
    "liens_on_current_owners = []\n",
    "for row in liens_on_older_sales.itertuples():\n",
    "    if int(row.tax_year) > pin_to_sale_date[row.pin].year:\n",
    "        liens_on_current_owners.append(row)\n",
    "liens_on_current_owners = pd.DataFrame(liens_on_current_owners)"
   ],
   "id": "d6375b450894947e",
   "outputs": [],
   "execution_count": 13
  },
  {
   "metadata": {
    "ExecuteTime": {
     "end_time": "2025-05-06T21:25:10.047776Z",
     "start_time": "2025-05-06T21:25:09.800651Z"
    }
   },
   "cell_type": "code",
   "source": [
    "#creates a dataframe slice of assessments of relevant parcels that have never satisfied a lien\n",
    "\n",
    "satisfied_liens = liens_on_current_owners[liens_on_current_owners['satisfied']=='t']\n",
    "outstanding_liens = liens_on_current_owners[~liens_on_current_owners.pin.isin(satisfied_liens.pin)]\n",
    "assessments_with_outstanding_liens = older_sales[older_sales.PIN.isin(outstanding_liens.pin)]"
   ],
   "id": "cb126f395a992182",
   "outputs": [],
   "execution_count": 14
  },
  {
   "metadata": {
    "ExecuteTime": {
     "end_time": "2025-05-06T21:52:22.198356Z",
     "start_time": "2025-05-06T21:52:22.110896Z"
    }
   },
   "cell_type": "code",
   "source": [
    "#isolates parcels that are either vacant lots or single-family houses\n",
    "\n",
    "residential_parcels = assessments_with_outstanding_liens[assessments_with_outstanding_liens.CLASSDESC=='RESIDENTIAL']\n",
    "vacant_eligible_parcels = residential_parcels[residential_parcels['USEDESC'].isin(['RESIDENTIAL VACANT LAND', 'VACANT LAND'])]\n",
    "single_family_parcels = residential_parcels[residential_parcels.USEDESC.isin(['SINGLE FAMILY'])]"
   ],
   "id": "a686be1d706549b2",
   "outputs": [],
   "execution_count": 15
  },
  {
   "metadata": {
    "ExecuteTime": {
     "end_time": "2025-05-06T21:52:30.736657Z",
     "start_time": "2025-05-06T21:52:30.625384Z"
    }
   },
   "cell_type": "code",
   "source": [
    "#reads the MVA file, isolates DEF MVAs within TriCOG footprint\n",
    "\n",
    "mva = gp.read_file(\"../data/pitts_allegheny_mva2021.zip\")\n",
    "def_mvas = mva[mva.MVA21.isin(['D','E','F'])]\n",
    "mvas_in_tcog = gp.clip(def_mvas, tricog.to_crs(\"EPSG:4326\"))"
   ],
   "id": "444f9cfdaac6445c",
   "outputs": [],
   "execution_count": 16
  },
  {
   "metadata": {
    "ExecuteTime": {
     "end_time": "2025-05-06T21:52:34.232028Z",
     "start_time": "2025-05-06T21:52:33.098085Z"
    }
   },
   "cell_type": "code",
   "source": [
    "#isolates relevant single-family housing parcels within DEF MVAs in TriCOG boundaries\n",
    "\n",
    "single_family_in_mva = gp.clip(single_family_parcels, def_mvas)"
   ],
   "id": "907d190634cda486",
   "outputs": [],
   "execution_count": 17
  },
  {
   "metadata": {
    "ExecuteTime": {
     "end_time": "2025-05-06T21:52:46.666731Z",
     "start_time": "2025-05-06T21:52:38.935011Z"
    }
   },
   "cell_type": "code",
   "source": "blocks = gp.read_file(\"../data/pa_blocks_2020.zip\")",
   "id": "cea877ef2659fdb2",
   "outputs": [],
   "execution_count": 18
  },
  {
   "metadata": {
    "ExecuteTime": {
     "end_time": "2025-05-06T21:53:03.251913Z",
     "start_time": "2025-05-06T21:52:58.277362Z"
    }
   },
   "cell_type": "code",
   "source": "blocks_within_tcog = gp.clip(blocks.to_crs(\"EPSG:4326\"), tricog.to_crs(\"EPSG:4326\"))",
   "id": "789a1058c2a82f7",
   "outputs": [],
   "execution_count": 19
  },
  {
   "metadata": {
    "ExecuteTime": {
     "end_time": "2025-05-06T21:53:11.618953Z",
     "start_time": "2025-05-06T21:53:11.573446Z"
    }
   },
   "cell_type": "code",
   "source": [
    "blocks_with_single_family = gp.sjoin(blocks_within_tcog, single_family_in_mva, predicate=\"contains\")\n",
    "blocks_with_single_family = blocks_with_single_family.loc[:, blocks_within_tcog.columns].drop_duplicates()"
   ],
   "id": "b24cd7dd5e9c23e0",
   "outputs": [],
   "execution_count": 20
  },
  {
   "metadata": {
    "ExecuteTime": {
     "end_time": "2025-05-07T01:45:48.453944Z",
     "start_time": "2025-05-07T01:45:47.051299Z"
    }
   },
   "cell_type": "code",
   "source": "all_parcels_in_single_family_blocks = gp.sjoin(blocks_with_single_family, assessments_on_clipped, predicate=\"contains\")",
   "id": "e81b3d9263d33cef",
   "outputs": [],
   "execution_count": 43
  },
  {
   "metadata": {
    "ExecuteTime": {
     "end_time": "2025-05-07T16:14:16.926706Z",
     "start_time": "2025-05-07T16:14:06.824794Z"
    }
   },
   "cell_type": "code",
   "source": [
    "c = Counter(all_parcels_in_single_family_blocks.GEOID)\n",
    "blocks_to_parcel_count = {k: {'parcel_count': v, 'eligible_count': 0, 'vacant_count': 0, 'vacant_percentage': 0} for k, v in c.items()}\n",
    "\n",
    "for row in all_parcels_in_single_family_blocks.itertuples():\n",
    "    if row.PIN in list(vacant_eligible_parcels.PIN):\n",
    "        blocks_to_parcel_count[row.GEOID]['vacant_count'] += 1\n",
    "    if row.PIN in list(single_family_in_mva.PIN):\n",
    "        blocks_to_parcel_count[row.GEOID]['eligible_count'] += 1\n",
    "\n",
    "for block in blocks_to_parcel_count:\n",
    "    block_dict = blocks_to_parcel_count[block]\n",
    "    block_dict['vacant_percentage'] = block_dict['vacant_count']/block_dict['parcel_count']"
   ],
   "id": "50446cd55f4f6f88",
   "outputs": [],
   "execution_count": 109
  },
  {
   "metadata": {},
   "cell_type": "code",
   "outputs": [],
   "execution_count": null,
   "source": [
    "#NOTE: This cell will likely be deleted, but I am not ready to do something that rash yet.\n",
    "\n",
    "\n",
    "#perform an inner join that connects the parcels within TriCOG's footprint and their assessment data\n",
    "\n",
    "# assessments_within_tricog = parcels_within_tricog.merge(allegheny_county_assessments, how=\"inner\", on=\"PIN\")\n",
    "\n",
    "#convert sale data dates to datetime and only keep houses that were last sold before 2022\n",
    "#since we need houses with at least three years' tax delinquency, houses sold after 2022 could not meet that criteria\n",
    "\n",
    "# assessments_within_tricog['SALEDATE'] = pd.to_datetime(assessments_within_tricog['SALEDATE'], format='%m-%d-%Y')\n",
    "# assessments_within_tricog['PREVSALEDATE'] = pd.to_datetime(assessments_within_tricog['PREVSALEDATE'], format='%m-%d-%Y')\n",
    "# cutoff = datetime(2022,1,1)\n",
    "# older_sales = assessments_within_tricog[assessments_within_tricog['SALEDATE']<cutoff]"
   ],
   "id": "f9c5db45852cfa28"
  }
 ],
 "metadata": {
  "kernelspec": {
   "display_name": "Python 3",
   "language": "python",
   "name": "python3"
  },
  "language_info": {
   "codemirror_mode": {
    "name": "ipython",
    "version": 2
   },
   "file_extension": ".py",
   "mimetype": "text/x-python",
   "name": "python",
   "nbconvert_exporter": "python",
   "pygments_lexer": "ipython2",
   "version": "2.7.6"
  }
 },
 "nbformat": 4,
 "nbformat_minor": 5
}
