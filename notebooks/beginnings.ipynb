{
 "cells": [
  {
   "cell_type": "code",
   "id": "initial_id",
   "metadata": {
    "collapsed": true,
    "ExecuteTime": {
     "end_time": "2025-05-02T18:25:54.335716Z",
     "start_time": "2025-05-02T18:25:54.329693Z"
    }
   },
   "source": [
    "import geopandas as gp\n",
    "import pandas as pd\n",
    "from datetime import datetime"
   ],
   "outputs": [],
   "execution_count": 64
  },
  {
   "metadata": {
    "ExecuteTime": {
     "end_time": "2025-05-01T15:33:25.993830Z",
     "start_time": "2025-05-01T15:33:25.028201Z"
    }
   },
   "cell_type": "code",
   "source": [
    "#reads the TriCOG Land Bank service area footprint\n",
    "\n",
    "tricog = gp.read_file(\"../data/tricog_dissolved.zip\")"
   ],
   "id": "8b951513be13957a",
   "outputs": [],
   "execution_count": 3
  },
  {
   "metadata": {},
   "cell_type": "code",
   "outputs": [],
   "execution_count": null,
   "source": [
    "#read the allegheny county parcel file\n",
    "\n",
    "allegheny_county_parcels = gp.read_file(\"../data/alleghenycounty_parcels202504.geojson\")"
   ],
   "id": "a83365a68dace8c1"
  },
  {
   "metadata": {
    "ExecuteTime": {
     "end_time": "2025-05-01T15:34:46.056697Z",
     "start_time": "2025-05-01T15:33:36.595183Z"
    }
   },
   "cell_type": "code",
   "source": [
    "#perform a spatial join between the TriCOG footprint and the county's parcels to find parcels within TriCOG\n",
    "\n",
    "parcels_within_tricog = gp.sjoin(allegheny_county_parcels, tricog.to_crs(\"EPSG:4326\"))"
   ],
   "id": "3c9f020867eec71b",
   "outputs": [],
   "execution_count": 4
  },
  {
   "metadata": {},
   "cell_type": "code",
   "outputs": [],
   "execution_count": null,
   "source": "clipped_parcels = gp.clip(allegheny_county_parcels, tricog.to_crs(\"EPSG:4326\"))",
   "id": "1ef7f6d56e992919"
  },
  {
   "metadata": {},
   "cell_type": "code",
   "outputs": [],
   "execution_count": null,
   "source": [
    "#read the assessment file and rename the parcel ID column \"PIN\"\n",
    "with open(\"../data_assessments_apr_2025.csv\", newline=\"\") as f:\n",
    "    allegheny_county_assessments_list = [row for row in csv.reader(f, delimiter=',')]\n",
    "allegheny_county_assessments_list[0][0] = 'PIN'"
   ],
   "id": "65bd730af3fa7f25"
  },
  {
   "metadata": {},
   "cell_type": "code",
   "outputs": [],
   "execution_count": null,
   "source": [
    "#convert the list of lists to a dataframe\n",
    "\n",
    "allegheny_county_assessments = pd.DataFrame(allegheny_county_assessments_list[1:], columns = allegheny_county_assessments_list[0])"
   ],
   "id": "4435531d9ab69f2c"
  },
  {
   "metadata": {},
   "cell_type": "code",
   "outputs": [],
   "execution_count": null,
   "source": [
    "#Perform an inner join that connects the parcels within the TriCOG footprint to their assessment data\n",
    "assessments_on_clipped = clipped_parcels.merge(allegheny_county_assessments, how='inner', on='PIN')"
   ],
   "id": "216a5e6392c694b9"
  },
  {
   "metadata": {
    "ExecuteTime": {
     "end_time": "2025-05-02T19:36:28.270931Z",
     "start_time": "2025-05-02T19:36:27.888311Z"
    }
   },
   "cell_type": "code",
   "source": [
    "#convert sale data dates to datetime and only keep houses that were last sold before 2022\n",
    "#since we need houses with at least three years' tax delinquency, houses sold after 2022 could not meet that criteria\n",
    "\n",
    "assessments_on_clipped['SALEDATE'] = pd.to_datetime(assessments_on_clipped['SALEDATE'], format='%m-%d-%Y')\n",
    "assessments_on_clipped['PREVSALEDATE'] = pd.to_datetime(assessments_on_clipped['PREVSALEDATE'], format='%m-%d-%Y')\n",
    "cutoff = datetime(2022,1,1)\n",
    "older_sales = assessments_on_clipped[assessments_on_clipped['SALEDATE']<cutoff]"
   ],
   "id": "f1794f8b2df25341",
   "outputs": [],
   "execution_count": 97
  },
  {
   "metadata": {
    "ExecuteTime": {
     "end_time": "2025-05-02T19:49:03.895815Z",
     "start_time": "2025-05-02T19:48:50.702791Z"
    }
   },
   "cell_type": "code",
   "source": [
    "#creates a dict to use as a lookup to find the sale date of a parcel given its parcel id\n",
    "\n",
    "pin_to_sale_date = {row.PIN: row.SALEDATE for row in older_sales.itertuples()}"
   ],
   "id": "e2e2c8b224727175",
   "outputs": [],
   "execution_count": 101
  },
  {
   "metadata": {
    "ExecuteTime": {
     "end_time": "2025-05-02T20:14:10.282734Z",
     "start_time": "2025-05-02T20:12:40.737252Z"
    }
   },
   "cell_type": "code",
   "source": [
    "#read_the_liens_file\n",
    "with open(\"../data/liens.csv\", newline=\"\") as f:\n",
    "    liens_list = [row for row in csv.reader(f, delimiter=',')]\n",
    "liens = pd.DataFrame(liens_list[1:], columns = liens_list[0])"
   ],
   "id": "250f8e3b13c5b71",
   "outputs": [],
   "execution_count": 112
  },
  {
   "metadata": {
    "ExecuteTime": {
     "end_time": "2025-05-05T14:10:42.363994Z",
     "start_time": "2025-05-05T14:10:29.585008Z"
    }
   },
   "cell_type": "code",
   "source": [
    "#look for liens associated with any parcel that was sold before 2022 and\n",
    "#is in the TriCOG footprint\n",
    "\n",
    "liens_on_older_sales = liens[liens.pin.isin(older_sales.PIN)]"
   ],
   "id": "11ed87c61cc7c567",
   "outputs": [],
   "execution_count": 151
  },
  {
   "metadata": {
    "ExecuteTime": {
     "end_time": "2025-05-02T20:46:51.995892Z",
     "start_time": "2025-05-02T20:46:48.285846Z"
    }
   },
   "cell_type": "code",
   "source": [
    "#creates a pandas DataFrame of liens from before 2022 that are associated with the current owner (and not liens that are attached to previous owners)\n",
    "\n",
    "liens_on_current_owners = []\n",
    "for row in liens_on_older_sales.itertuples():\n",
    "    if int(row.tax_year) > pin_to_sale_date[row.pin].year:\n",
    "        liens_on_current_owners.append(row)\n",
    "liens_on_current_owners = pd.DataFrame(liens_on_current_owners)"
   ],
   "id": "d6375b450894947e",
   "outputs": [],
   "execution_count": 131
  },
  {
   "metadata": {
    "ExecuteTime": {
     "end_time": "2025-05-02T20:47:00.602226Z",
     "start_time": "2025-05-02T20:47:00.496870Z"
    }
   },
   "cell_type": "code",
   "source": [
    "#creates a dataframe slice of assessments of relevant parcels that have never satisfied a lien\n",
    "\n",
    "satisfied_liens = liens_on_current_owners[liens_on_current_owners['satisfied']=='t']\n",
    "outstanding_liens = liens_on_current_owners[~liens_on_current_owners.pin.isin(satisfied_liens.pin)]\n",
    "assessments_with_outstanding_liens = older_sales[older_sales.PIN.isin(outstanding_liens.pin)]"
   ],
   "id": "cb126f395a992182",
   "outputs": [],
   "execution_count": 133
  },
  {
   "metadata": {
    "ExecuteTime": {
     "end_time": "2025-05-02T20:58:09.289675Z",
     "start_time": "2025-05-02T20:58:09.193803Z"
    }
   },
   "cell_type": "code",
   "source": [
    "#isolates parcels that are either vacant lots or single-family houses\n",
    "\n",
    "residential_parcels = assessments_with_outstanding_liens[assessments_with_outstanding_liens.CLASSDESC=='RESIDENTIAL']\n",
    "vacant_eligible_parcels = residential_parcels[residential_parcels['USEDESC'].isin(['RESIDENTIAL VACANT LAND', 'VACANT LAND'])]\n",
    "single_family_parcels = residential_parcels[residential_parcels.USEDESC.isin(['SINGLE FAMILY'])]"
   ],
   "id": "a686be1d706549b2",
   "outputs": [],
   "execution_count": 145
  },
  {
   "metadata": {
    "ExecuteTime": {
     "end_time": "2025-05-02T20:56:59.601848Z",
     "start_time": "2025-05-02T20:56:59.351376Z"
    }
   },
   "cell_type": "code",
   "source": [
    "#reads the MVA file, isolates DEF MVAs within TriCOG footprint\n",
    "\n",
    "mva = gp.read_file(\"../data/pitts_allegheny_mva2021.zip\")\n",
    "def_mvas = mva[mva.MVA21.isin(['D','E','F'])]\n",
    "mvas_in_tcog = gp.clip(def_mvas, tricog.to_crs(\"EPSG:4326\"))"
   ],
   "id": "444f9cfdaac6445c",
   "outputs": [],
   "execution_count": 144
  },
  {
   "metadata": {
    "ExecuteTime": {
     "end_time": "2025-05-02T20:59:01.895490Z",
     "start_time": "2025-05-02T20:58:58.351083Z"
    }
   },
   "cell_type": "code",
   "source": [
    "#isolates relevant single-family housing parcels within DEF MVAs in TriCOG boundaries\n",
    "\n",
    "single_family_in_mva = gp.clip(single_family_parcels, def_mvas)"
   ],
   "id": "907d190634cda486",
   "outputs": [],
   "execution_count": 148
  }
 ],
 "metadata": {
  "kernelspec": {
   "display_name": "Python 3",
   "language": "python",
   "name": "python3"
  },
  "language_info": {
   "codemirror_mode": {
    "name": "ipython",
    "version": 2
   },
   "file_extension": ".py",
   "mimetype": "text/x-python",
   "name": "python",
   "nbconvert_exporter": "python",
   "pygments_lexer": "ipython2",
   "version": "2.7.6"
  }
 },
 "nbformat": 4,
 "nbformat_minor": 5
}
